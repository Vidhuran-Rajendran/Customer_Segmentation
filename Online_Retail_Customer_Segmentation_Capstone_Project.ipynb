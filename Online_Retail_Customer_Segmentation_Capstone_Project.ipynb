{
  "nbformat": 4,
  "nbformat_minor": 0,
  "metadata": {
    "kernelspec": {
      "display_name": "Python 3",
      "language": "python",
      "name": "python3"
    },
    "language_info": {
      "codemirror_mode": {
        "name": "ipython",
        "version": 3
      },
      "file_extension": ".py",
      "mimetype": "text/x-python",
      "name": "python",
      "nbconvert_exporter": "python",
      "pygments_lexer": "ipython3",
      "version": "3.6.6"
    },
    "colab": {
      "name": "Online Retail Customer Segmentation - Capstone Project.ipynb",
      "provenance": [],
      "collapsed_sections": [],
      "include_colab_link": true
    }
  },
  "cells": [
    {
      "cell_type": "markdown",
      "metadata": {
        "id": "view-in-github",
        "colab_type": "text"
      },
      "source": [
        "<a href=\"https://colab.research.google.com/github/Vidhuran-Rajendran/Customer_Segmentation/blob/main/Online_Retail_Customer_Segmentation_Capstone_Project.ipynb\" target=\"_parent\"><img src=\"https://colab.research.google.com/assets/colab-badge.svg\" alt=\"Open In Colab\"/></a>"
      ]
    },
    {
      "cell_type": "markdown",
      "metadata": {
        "id": "tOGC-qoyhJeX"
      },
      "source": [
        "![images (1).jpg](data:image/jpeg;base64,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)\n",
        "\n",
        "# <b><u> Project Title : Extraction/identification of major topics & themes discussed in news articles. </u></b>\n",
        "# <b><u> Project Title : Extraction/identification of major topics & themes discussed in news articles. </u></b>"
      ]
    },
    {
      "cell_type": "markdown",
      "metadata": {
        "id": "Y06xIdG26kRF"
      },
      "source": [
        "## <b> Problem Description </b>\n",
        "\n",
        "### In this project, your task is to identify major customer segments on a transnational data set which contains all the transactions occurring between 01/12/2010 and 09/12/2011 for a UK-based and registered non-store online retail.The company mainly sells unique all-occasion gifts. Many customers of the company are wholesalers."
      ]
    },
    {
      "cell_type": "markdown",
      "metadata": {
        "id": "AlLxAtlziMbP"
      },
      "source": [
        "## <b> Data Description </b>\n",
        "\n",
        "### <b>Attribute Information: </b>\n",
        "\n",
        "* ### InvoiceNo: Invoice number. Nominal, a 6-digit integral number uniquely assigned to each transaction. If this code starts with letter 'c', it indicates a cancellation.\n",
        "* ### StockCode: Product (item) code. Nominal, a 5-digit integral number uniquely assigned to each distinct product.\n",
        "* ### Description: Product (item) name. Nominal.\n",
        "* ### Quantity: The quantities of each product (item) per transaction. Numeric.\n",
        "* ### InvoiceDate: Invice Date and time. Numeric, the day and time when each transaction was generated.\n",
        "* ### UnitPrice: Unit price. Numeric, Product price per unit in sterling.\n",
        "* ### CustomerID: Customer number. Nominal, a 5-digit integral number uniquely assigned to each customer.\n",
        "* ### Country: Country name. Nominal, the name of the country where each customer resides."
      ]
    },
    {
      "cell_type": "markdown",
      "source": [
        "# Architecture\n",
        "\n",
        "Data Preparation and Exploratory Data Analysis > Build Model using Multiple Techniques/Algorithms > Optimal Model identified through Testing and Evaluation"
      ],
      "metadata": {
        "id": "5rUZO2CPnnGb"
      }
    },
    {
      "cell_type": "markdown",
      "source": [
        "# Importing"
      ],
      "metadata": {
        "id": "Do7sQ7yOnqT5"
      }
    },
    {
      "cell_type": "code",
      "metadata": {
        "id": "dByMsuzT8Tnw"
      },
      "source": [
        "import numpy as np\n",
        "import pandas as pd\n",
        "import seaborn as sns\n",
        "import matplotlib.pyplot as plt\n",
        "from datetime import datetime\n",
        "import warnings\n",
        "warnings.filterwarnings('ignore')\n",
        "from numpy import math\n",
        "%matplotlib inline\n",
        "from sklearn.metrics import silhouette_score\n",
        "from sklearn.datasets import make_blobs\n",
        "from sklearn.cluster import KMeans\n",
        "from sklearn.metrics import silhouette_samples, silhouette_score\n",
        "from sklearn.cluster import KMeans"
      ],
      "execution_count": 4,
      "outputs": []
    },
    {
      "cell_type": "code",
      "source": [
        "from google.colab import drive\n",
        "drive.mount('/content/drive')"
      ],
      "metadata": {
        "colab": {
          "base_uri": "https://localhost:8080/"
        },
        "id": "jK1jijFMnyst",
        "outputId": "073528d5-554f-4092-a72b-bdcc2d3adfe0"
      },
      "execution_count": 3,
      "outputs": [
        {
          "output_type": "stream",
          "name": "stdout",
          "text": [
            "Mounted at /content/drive\n"
          ]
        }
      ]
    },
    {
      "cell_type": "code",
      "source": [
        "file=\"/content/drive/MyDrive/Colab Notebooks/ALma better/Capstone project/Customer Segmetation cap_4/Online Retail.xlsx\"\n",
        "data1=pd.read_excel(file)\n",
        "data=data1.copy()"
      ],
      "metadata": {
        "id": "pMa4lduKp1Sl"
      },
      "execution_count": 5,
      "outputs": []
    },
    {
      "cell_type": "markdown",
      "source": [
        "# Data Inspection"
      ],
      "metadata": {
        "id": "RhT7hKoGnyWj"
      }
    },
    {
      "cell_type": "code",
      "source": [
        "# First Look\n",
        "data.head"
      ],
      "metadata": {
        "colab": {
          "base_uri": "https://localhost:8080/"
        },
        "id": "z92psHyuphnx",
        "outputId": "5328aa4d-9df9-4482-960b-c24dadc95f0e"
      },
      "execution_count": 6,
      "outputs": [
        {
          "output_type": "execute_result",
          "data": {
            "text/plain": [
              "<bound method NDFrame.head of        InvoiceNo StockCode                          Description  Quantity  \\\n",
              "0         536365    85123A   WHITE HANGING HEART T-LIGHT HOLDER         6   \n",
              "1         536365     71053                  WHITE METAL LANTERN         6   \n",
              "2         536365    84406B       CREAM CUPID HEARTS COAT HANGER         8   \n",
              "3         536365    84029G  KNITTED UNION FLAG HOT WATER BOTTLE         6   \n",
              "4         536365    84029E       RED WOOLLY HOTTIE WHITE HEART.         6   \n",
              "...          ...       ...                                  ...       ...   \n",
              "541904    581587     22613          PACK OF 20 SPACEBOY NAPKINS        12   \n",
              "541905    581587     22899         CHILDREN'S APRON DOLLY GIRL          6   \n",
              "541906    581587     23254        CHILDRENS CUTLERY DOLLY GIRL          4   \n",
              "541907    581587     23255      CHILDRENS CUTLERY CIRCUS PARADE         4   \n",
              "541908    581587     22138        BAKING SET 9 PIECE RETROSPOT          3   \n",
              "\n",
              "               InvoiceDate  UnitPrice  CustomerID         Country  \n",
              "0      2010-12-01 08:26:00       2.55     17850.0  United Kingdom  \n",
              "1      2010-12-01 08:26:00       3.39     17850.0  United Kingdom  \n",
              "2      2010-12-01 08:26:00       2.75     17850.0  United Kingdom  \n",
              "3      2010-12-01 08:26:00       3.39     17850.0  United Kingdom  \n",
              "4      2010-12-01 08:26:00       3.39     17850.0  United Kingdom  \n",
              "...                    ...        ...         ...             ...  \n",
              "541904 2011-12-09 12:50:00       0.85     12680.0          France  \n",
              "541905 2011-12-09 12:50:00       2.10     12680.0          France  \n",
              "541906 2011-12-09 12:50:00       4.15     12680.0          France  \n",
              "541907 2011-12-09 12:50:00       4.15     12680.0          France  \n",
              "541908 2011-12-09 12:50:00       4.95     12680.0          France  \n",
              "\n",
              "[541909 rows x 8 columns]>"
            ]
          },
          "metadata": {},
          "execution_count": 6
        }
      ]
    },
    {
      "cell_type": "code",
      "source": [
        "data.tail"
      ],
      "metadata": {
        "colab": {
          "base_uri": "https://localhost:8080/"
        },
        "id": "09FH3Afipijr",
        "outputId": "532a4b41-cf28-43ce-a9ad-42e8e0f6f628"
      },
      "execution_count": 7,
      "outputs": [
        {
          "output_type": "execute_result",
          "data": {
            "text/plain": [
              "<bound method NDFrame.tail of        InvoiceNo StockCode                          Description  Quantity  \\\n",
              "0         536365    85123A   WHITE HANGING HEART T-LIGHT HOLDER         6   \n",
              "1         536365     71053                  WHITE METAL LANTERN         6   \n",
              "2         536365    84406B       CREAM CUPID HEARTS COAT HANGER         8   \n",
              "3         536365    84029G  KNITTED UNION FLAG HOT WATER BOTTLE         6   \n",
              "4         536365    84029E       RED WOOLLY HOTTIE WHITE HEART.         6   \n",
              "...          ...       ...                                  ...       ...   \n",
              "541904    581587     22613          PACK OF 20 SPACEBOY NAPKINS        12   \n",
              "541905    581587     22899         CHILDREN'S APRON DOLLY GIRL          6   \n",
              "541906    581587     23254        CHILDRENS CUTLERY DOLLY GIRL          4   \n",
              "541907    581587     23255      CHILDRENS CUTLERY CIRCUS PARADE         4   \n",
              "541908    581587     22138        BAKING SET 9 PIECE RETROSPOT          3   \n",
              "\n",
              "               InvoiceDate  UnitPrice  CustomerID         Country  \n",
              "0      2010-12-01 08:26:00       2.55     17850.0  United Kingdom  \n",
              "1      2010-12-01 08:26:00       3.39     17850.0  United Kingdom  \n",
              "2      2010-12-01 08:26:00       2.75     17850.0  United Kingdom  \n",
              "3      2010-12-01 08:26:00       3.39     17850.0  United Kingdom  \n",
              "4      2010-12-01 08:26:00       3.39     17850.0  United Kingdom  \n",
              "...                    ...        ...         ...             ...  \n",
              "541904 2011-12-09 12:50:00       0.85     12680.0          France  \n",
              "541905 2011-12-09 12:50:00       2.10     12680.0          France  \n",
              "541906 2011-12-09 12:50:00       4.15     12680.0          France  \n",
              "541907 2011-12-09 12:50:00       4.15     12680.0          France  \n",
              "541908 2011-12-09 12:50:00       4.95     12680.0          France  \n",
              "\n",
              "[541909 rows x 8 columns]>"
            ]
          },
          "metadata": {},
          "execution_count": 7
        }
      ]
    },
    {
      "cell_type": "code",
      "source": [
        "data.shape"
      ],
      "metadata": {
        "colab": {
          "base_uri": "https://localhost:8080/"
        },
        "id": "dtj58fGDpigJ",
        "outputId": "f3c3f8aa-bdf5-44e6-a130-2e95b7d02f10"
      },
      "execution_count": 8,
      "outputs": [
        {
          "output_type": "execute_result",
          "data": {
            "text/plain": [
              "(541909, 8)"
            ]
          },
          "metadata": {},
          "execution_count": 8
        }
      ]
    },
    {
      "cell_type": "code",
      "source": [
        "## Dataset Information(Dtype ,Null count, Non-null count)\n",
        "data.info"
      ],
      "metadata": {
        "colab": {
          "base_uri": "https://localhost:8080/"
        },
        "id": "z1TskZNFpidy",
        "outputId": "159e1528-d07b-4a49-f426-74f2a58b3767"
      },
      "execution_count": 9,
      "outputs": [
        {
          "output_type": "execute_result",
          "data": {
            "text/plain": [
              "<bound method DataFrame.info of        InvoiceNo StockCode                          Description  Quantity  \\\n",
              "0         536365    85123A   WHITE HANGING HEART T-LIGHT HOLDER         6   \n",
              "1         536365     71053                  WHITE METAL LANTERN         6   \n",
              "2         536365    84406B       CREAM CUPID HEARTS COAT HANGER         8   \n",
              "3         536365    84029G  KNITTED UNION FLAG HOT WATER BOTTLE         6   \n",
              "4         536365    84029E       RED WOOLLY HOTTIE WHITE HEART.         6   \n",
              "...          ...       ...                                  ...       ...   \n",
              "541904    581587     22613          PACK OF 20 SPACEBOY NAPKINS        12   \n",
              "541905    581587     22899         CHILDREN'S APRON DOLLY GIRL          6   \n",
              "541906    581587     23254        CHILDRENS CUTLERY DOLLY GIRL          4   \n",
              "541907    581587     23255      CHILDRENS CUTLERY CIRCUS PARADE         4   \n",
              "541908    581587     22138        BAKING SET 9 PIECE RETROSPOT          3   \n",
              "\n",
              "               InvoiceDate  UnitPrice  CustomerID         Country  \n",
              "0      2010-12-01 08:26:00       2.55     17850.0  United Kingdom  \n",
              "1      2010-12-01 08:26:00       3.39     17850.0  United Kingdom  \n",
              "2      2010-12-01 08:26:00       2.75     17850.0  United Kingdom  \n",
              "3      2010-12-01 08:26:00       3.39     17850.0  United Kingdom  \n",
              "4      2010-12-01 08:26:00       3.39     17850.0  United Kingdom  \n",
              "...                    ...        ...         ...             ...  \n",
              "541904 2011-12-09 12:50:00       0.85     12680.0          France  \n",
              "541905 2011-12-09 12:50:00       2.10     12680.0          France  \n",
              "541906 2011-12-09 12:50:00       4.15     12680.0          France  \n",
              "541907 2011-12-09 12:50:00       4.15     12680.0          France  \n",
              "541908 2011-12-09 12:50:00       4.95     12680.0          France  \n",
              "\n",
              "[541909 rows x 8 columns]>"
            ]
          },
          "metadata": {},
          "execution_count": 9
        }
      ]
    },
    {
      "cell_type": "code",
      "source": [
        "# Descriptive summary of dataset\n",
        "data.describe()"
      ],
      "metadata": {
        "colab": {
          "base_uri": "https://localhost:8080/",
          "height": 300
        },
        "id": "7rVwPHIppibT",
        "outputId": "e857ebd5-c9ec-447d-b89b-c985f403e9c0"
      },
      "execution_count": 10,
      "outputs": [
        {
          "output_type": "execute_result",
          "data": {
            "text/plain": [
              "            Quantity      UnitPrice     CustomerID\n",
              "count  541909.000000  541909.000000  406829.000000\n",
              "mean        9.552250       4.611114   15287.690570\n",
              "std       218.081158      96.759853    1713.600303\n",
              "min    -80995.000000  -11062.060000   12346.000000\n",
              "25%         1.000000       1.250000   13953.000000\n",
              "50%         3.000000       2.080000   15152.000000\n",
              "75%        10.000000       4.130000   16791.000000\n",
              "max     80995.000000   38970.000000   18287.000000"
            ],
            "text/html": [
              "\n",
              "  <div id=\"df-5f9a7080-62d2-4c51-b3d5-9198a56ad8e6\">\n",
              "    <div class=\"colab-df-container\">\n",
              "      <div>\n",
              "<style scoped>\n",
              "    .dataframe tbody tr th:only-of-type {\n",
              "        vertical-align: middle;\n",
              "    }\n",
              "\n",
              "    .dataframe tbody tr th {\n",
              "        vertical-align: top;\n",
              "    }\n",
              "\n",
              "    .dataframe thead th {\n",
              "        text-align: right;\n",
              "    }\n",
              "</style>\n",
              "<table border=\"1\" class=\"dataframe\">\n",
              "  <thead>\n",
              "    <tr style=\"text-align: right;\">\n",
              "      <th></th>\n",
              "      <th>Quantity</th>\n",
              "      <th>UnitPrice</th>\n",
              "      <th>CustomerID</th>\n",
              "    </tr>\n",
              "  </thead>\n",
              "  <tbody>\n",
              "    <tr>\n",
              "      <th>count</th>\n",
              "      <td>541909.000000</td>\n",
              "      <td>541909.000000</td>\n",
              "      <td>406829.000000</td>\n",
              "    </tr>\n",
              "    <tr>\n",
              "      <th>mean</th>\n",
              "      <td>9.552250</td>\n",
              "      <td>4.611114</td>\n",
              "      <td>15287.690570</td>\n",
              "    </tr>\n",
              "    <tr>\n",
              "      <th>std</th>\n",
              "      <td>218.081158</td>\n",
              "      <td>96.759853</td>\n",
              "      <td>1713.600303</td>\n",
              "    </tr>\n",
              "    <tr>\n",
              "      <th>min</th>\n",
              "      <td>-80995.000000</td>\n",
              "      <td>-11062.060000</td>\n",
              "      <td>12346.000000</td>\n",
              "    </tr>\n",
              "    <tr>\n",
              "      <th>25%</th>\n",
              "      <td>1.000000</td>\n",
              "      <td>1.250000</td>\n",
              "      <td>13953.000000</td>\n",
              "    </tr>\n",
              "    <tr>\n",
              "      <th>50%</th>\n",
              "      <td>3.000000</td>\n",
              "      <td>2.080000</td>\n",
              "      <td>15152.000000</td>\n",
              "    </tr>\n",
              "    <tr>\n",
              "      <th>75%</th>\n",
              "      <td>10.000000</td>\n",
              "      <td>4.130000</td>\n",
              "      <td>16791.000000</td>\n",
              "    </tr>\n",
              "    <tr>\n",
              "      <th>max</th>\n",
              "      <td>80995.000000</td>\n",
              "      <td>38970.000000</td>\n",
              "      <td>18287.000000</td>\n",
              "    </tr>\n",
              "  </tbody>\n",
              "</table>\n",
              "</div>\n",
              "      <button class=\"colab-df-convert\" onclick=\"convertToInteractive('df-5f9a7080-62d2-4c51-b3d5-9198a56ad8e6')\"\n",
              "              title=\"Convert this dataframe to an interactive table.\"\n",
              "              style=\"display:none;\">\n",
              "        \n",
              "  <svg xmlns=\"http://www.w3.org/2000/svg\" height=\"24px\"viewBox=\"0 0 24 24\"\n",
              "       width=\"24px\">\n",
              "    <path d=\"M0 0h24v24H0V0z\" fill=\"none\"/>\n",
              "    <path d=\"M18.56 5.44l.94 2.06.94-2.06 2.06-.94-2.06-.94-.94-2.06-.94 2.06-2.06.94zm-11 1L8.5 8.5l.94-2.06 2.06-.94-2.06-.94L8.5 2.5l-.94 2.06-2.06.94zm10 10l.94 2.06.94-2.06 2.06-.94-2.06-.94-.94-2.06-.94 2.06-2.06.94z\"/><path d=\"M17.41 7.96l-1.37-1.37c-.4-.4-.92-.59-1.43-.59-.52 0-1.04.2-1.43.59L10.3 9.45l-7.72 7.72c-.78.78-.78 2.05 0 2.83L4 21.41c.39.39.9.59 1.41.59.51 0 1.02-.2 1.41-.59l7.78-7.78 2.81-2.81c.8-.78.8-2.07 0-2.86zM5.41 20L4 18.59l7.72-7.72 1.47 1.35L5.41 20z\"/>\n",
              "  </svg>\n",
              "      </button>\n",
              "      \n",
              "  <style>\n",
              "    .colab-df-container {\n",
              "      display:flex;\n",
              "      flex-wrap:wrap;\n",
              "      gap: 12px;\n",
              "    }\n",
              "\n",
              "    .colab-df-convert {\n",
              "      background-color: #E8F0FE;\n",
              "      border: none;\n",
              "      border-radius: 50%;\n",
              "      cursor: pointer;\n",
              "      display: none;\n",
              "      fill: #1967D2;\n",
              "      height: 32px;\n",
              "      padding: 0 0 0 0;\n",
              "      width: 32px;\n",
              "    }\n",
              "\n",
              "    .colab-df-convert:hover {\n",
              "      background-color: #E2EBFA;\n",
              "      box-shadow: 0px 1px 2px rgba(60, 64, 67, 0.3), 0px 1px 3px 1px rgba(60, 64, 67, 0.15);\n",
              "      fill: #174EA6;\n",
              "    }\n",
              "\n",
              "    [theme=dark] .colab-df-convert {\n",
              "      background-color: #3B4455;\n",
              "      fill: #D2E3FC;\n",
              "    }\n",
              "\n",
              "    [theme=dark] .colab-df-convert:hover {\n",
              "      background-color: #434B5C;\n",
              "      box-shadow: 0px 1px 3px 1px rgba(0, 0, 0, 0.15);\n",
              "      filter: drop-shadow(0px 1px 2px rgba(0, 0, 0, 0.3));\n",
              "      fill: #FFFFFF;\n",
              "    }\n",
              "  </style>\n",
              "\n",
              "      <script>\n",
              "        const buttonEl =\n",
              "          document.querySelector('#df-5f9a7080-62d2-4c51-b3d5-9198a56ad8e6 button.colab-df-convert');\n",
              "        buttonEl.style.display =\n",
              "          google.colab.kernel.accessAllowed ? 'block' : 'none';\n",
              "\n",
              "        async function convertToInteractive(key) {\n",
              "          const element = document.querySelector('#df-5f9a7080-62d2-4c51-b3d5-9198a56ad8e6');\n",
              "          const dataTable =\n",
              "            await google.colab.kernel.invokeFunction('convertToInteractive',\n",
              "                                                     [key], {});\n",
              "          if (!dataTable) return;\n",
              "\n",
              "          const docLinkHtml = 'Like what you see? Visit the ' +\n",
              "            '<a target=\"_blank\" href=https://colab.research.google.com/notebooks/data_table.ipynb>data table notebook</a>'\n",
              "            + ' to learn more about interactive tables.';\n",
              "          element.innerHTML = '';\n",
              "          dataTable['output_type'] = 'display_data';\n",
              "          await google.colab.output.renderOutput(dataTable, element);\n",
              "          const docLink = document.createElement('div');\n",
              "          docLink.innerHTML = docLinkHtml;\n",
              "          element.appendChild(docLink);\n",
              "        }\n",
              "      </script>\n",
              "    </div>\n",
              "  </div>\n",
              "  "
            ]
          },
          "metadata": {},
          "execution_count": 10
        }
      ]
    },
    {
      "cell_type": "markdown",
      "source": [
        "- The max and min value of Quantity are both 80995; it could represent a reversal of data entry.\n",
        "- Negative UnitPrice It is uncommon to have negative UnitPrice, as this would mean a cash outflow to a company. "
      ],
      "metadata": {
        "id": "s197d4RZqZrZ"
      }
    },
    {
      "cell_type": "code",
      "source": [
        "# Looking for missing values\n",
        "data.isnull().sum()"
      ],
      "metadata": {
        "colab": {
          "base_uri": "https://localhost:8080/"
        },
        "id": "aBhMU1mNpiY1",
        "outputId": "07a675da-e07b-426a-a394-588f5860212c"
      },
      "execution_count": 11,
      "outputs": [
        {
          "output_type": "execute_result",
          "data": {
            "text/plain": [
              "InvoiceNo           0\n",
              "StockCode           0\n",
              "Description      1454\n",
              "Quantity            0\n",
              "InvoiceDate         0\n",
              "UnitPrice           0\n",
              "CustomerID     135080\n",
              "Country             0\n",
              "dtype: int64"
            ]
          },
          "metadata": {},
          "execution_count": 11
        }
      ]
    },
    {
      "cell_type": "markdown",
      "source": [
        "- Missing 25% of CustomerID.\n",
        "- Missing 0.3% of description."
      ],
      "metadata": {
        "id": "W5thR3E6qi2w"
      }
    },
    {
      "cell_type": "code",
      "source": [
        "def show_missing():\n",
        "  missing=data.columns[data.isnull().any()].tolist()\n",
        "  return missing\n",
        "\n",
        "# missing data counts and percentages\n",
        "print('Missing Data Count')\n",
        "print(data[show_missing()].isnull().sum().sort_values(ascending=False))\n",
        "print('__'*50)\n",
        "print('Missing Data Percentage')\n",
        "print(round(data[show_missing()].isnull().sum().sort_values(ascending= False)/len(data)*100,2))"
      ],
      "metadata": {
        "colab": {
          "base_uri": "https://localhost:8080/"
        },
        "id": "phufyIlvqsnx",
        "outputId": "ff6170a1-fee8-4830-e7b1-572d1aa6f571"
      },
      "execution_count": 14,
      "outputs": [
        {
          "output_type": "stream",
          "name": "stdout",
          "text": [
            "Missing Data Count\n",
            "CustomerID     135080\n",
            "Description      1454\n",
            "dtype: int64\n",
            "____________________________________________________________________________________________________\n",
            "Missing Data Percentage\n",
            "CustomerID     24.93\n",
            "Description     0.27\n",
            "dtype: float64\n"
          ]
        }
      ]
    },
    {
      "cell_type": "code",
      "source": [
        "# Looking for UNique values\n",
        "data.nunique()"
      ],
      "metadata": {
        "colab": {
          "base_uri": "https://localhost:8080/"
        },
        "id": "mT5kel9Mr2cg",
        "outputId": "34a74ebc-b291-4d44-a2ed-a978c8137a51"
      },
      "execution_count": 17,
      "outputs": [
        {
          "output_type": "execute_result",
          "data": {
            "text/plain": [
              "InvoiceNo      25900\n",
              "StockCode       4070\n",
              "Description     4223\n",
              "Quantity         722\n",
              "InvoiceDate    23260\n",
              "UnitPrice       1630\n",
              "CustomerID      4372\n",
              "Country           38\n",
              "dtype: int64"
            ]
          },
          "metadata": {},
          "execution_count": 17
        }
      ]
    },
    {
      "cell_type": "markdown",
      "source": [
        "# Handling Missing Values"
      ],
      "metadata": {
        "id": "02ouF_4CrwBv"
      }
    },
    {
      "cell_type": "code",
      "source": [
        "# Dropping missing values\n",
        "data=data[pd.notnull(data['CustomerID'])]\n",
        "data=data[pd.notnull(data['Description'])]\n",
        "data['InvoiceNo']=data['InvoiceNo'].astype('str')\n",
        "data=data[~data['InvoiceNo'].str.contains('C')]"
      ],
      "metadata": {
        "id": "Ho-ijuH_sDZ3"
      },
      "execution_count": 19,
      "outputs": []
    },
    {
      "cell_type": "code",
      "source": [
        "data.isnull().sum()"
      ],
      "metadata": {
        "colab": {
          "base_uri": "https://localhost:8080/"
        },
        "id": "3zqVvxDbssoQ",
        "outputId": "290dcbd0-0b49-462d-8b95-a2825c361ca6"
      },
      "execution_count": 20,
      "outputs": [
        {
          "output_type": "execute_result",
          "data": {
            "text/plain": [
              "InvoiceNo      0\n",
              "StockCode      0\n",
              "Description    0\n",
              "Quantity       0\n",
              "InvoiceDate    0\n",
              "UnitPrice      0\n",
              "CustomerID     0\n",
              "Country        0\n",
              "dtype: int64"
            ]
          },
          "metadata": {},
          "execution_count": 20
        }
      ]
    },
    {
      "cell_type": "markdown",
      "source": [
        "# EDA and Data Preprocessing"
      ],
      "metadata": {
        "id": "ztkDjOgLs4KA"
      }
    },
    {
      "cell_type": "markdown",
      "source": [
        "# 1.Stockcode"
      ],
      "metadata": {
        "id": "97u7GPo_s8iC"
      }
    },
    {
      "cell_type": "code",
      "source": [
        "stockcode_data=data['StockCode'].value_counts().reset_index()\n",
        "stockcode_data.rename(columns={'index':'StockCode_Name'},inplace=True)\n",
        "stockcode_data.rename(columns={'StockCode':'Count'},inplace=True)\n",
        "stockcode_data.head()"
      ],
      "metadata": {
        "colab": {
          "base_uri": "https://localhost:8080/",
          "height": 206
        },
        "id": "fv1gE4SXs8Hj",
        "outputId": "c8b032cc-1268-4963-8268-4db411683a6b"
      },
      "execution_count": 21,
      "outputs": [
        {
          "output_type": "execute_result",
          "data": {
            "text/plain": [
              "  StockCode_Name  Count\n",
              "0         85123A   2035\n",
              "1          22423   1724\n",
              "2         85099B   1618\n",
              "3          84879   1408\n",
              "4          47566   1397"
            ],
            "text/html": [
              "\n",
              "  <div id=\"df-d3f9478b-5248-47fe-82ae-637178d0a2cb\">\n",
              "    <div class=\"colab-df-container\">\n",
              "      <div>\n",
              "<style scoped>\n",
              "    .dataframe tbody tr th:only-of-type {\n",
              "        vertical-align: middle;\n",
              "    }\n",
              "\n",
              "    .dataframe tbody tr th {\n",
              "        vertical-align: top;\n",
              "    }\n",
              "\n",
              "    .dataframe thead th {\n",
              "        text-align: right;\n",
              "    }\n",
              "</style>\n",
              "<table border=\"1\" class=\"dataframe\">\n",
              "  <thead>\n",
              "    <tr style=\"text-align: right;\">\n",
              "      <th></th>\n",
              "      <th>StockCode_Name</th>\n",
              "      <th>Count</th>\n",
              "    </tr>\n",
              "  </thead>\n",
              "  <tbody>\n",
              "    <tr>\n",
              "      <th>0</th>\n",
              "      <td>85123A</td>\n",
              "      <td>2035</td>\n",
              "    </tr>\n",
              "    <tr>\n",
              "      <th>1</th>\n",
              "      <td>22423</td>\n",
              "      <td>1724</td>\n",
              "    </tr>\n",
              "    <tr>\n",
              "      <th>2</th>\n",
              "      <td>85099B</td>\n",
              "      <td>1618</td>\n",
              "    </tr>\n",
              "    <tr>\n",
              "      <th>3</th>\n",
              "      <td>84879</td>\n",
              "      <td>1408</td>\n",
              "    </tr>\n",
              "    <tr>\n",
              "      <th>4</th>\n",
              "      <td>47566</td>\n",
              "      <td>1397</td>\n",
              "    </tr>\n",
              "  </tbody>\n",
              "</table>\n",
              "</div>\n",
              "      <button class=\"colab-df-convert\" onclick=\"convertToInteractive('df-d3f9478b-5248-47fe-82ae-637178d0a2cb')\"\n",
              "              title=\"Convert this dataframe to an interactive table.\"\n",
              "              style=\"display:none;\">\n",
              "        \n",
              "  <svg xmlns=\"http://www.w3.org/2000/svg\" height=\"24px\"viewBox=\"0 0 24 24\"\n",
              "       width=\"24px\">\n",
              "    <path d=\"M0 0h24v24H0V0z\" fill=\"none\"/>\n",
              "    <path d=\"M18.56 5.44l.94 2.06.94-2.06 2.06-.94-2.06-.94-.94-2.06-.94 2.06-2.06.94zm-11 1L8.5 8.5l.94-2.06 2.06-.94-2.06-.94L8.5 2.5l-.94 2.06-2.06.94zm10 10l.94 2.06.94-2.06 2.06-.94-2.06-.94-.94-2.06-.94 2.06-2.06.94z\"/><path d=\"M17.41 7.96l-1.37-1.37c-.4-.4-.92-.59-1.43-.59-.52 0-1.04.2-1.43.59L10.3 9.45l-7.72 7.72c-.78.78-.78 2.05 0 2.83L4 21.41c.39.39.9.59 1.41.59.51 0 1.02-.2 1.41-.59l7.78-7.78 2.81-2.81c.8-.78.8-2.07 0-2.86zM5.41 20L4 18.59l7.72-7.72 1.47 1.35L5.41 20z\"/>\n",
              "  </svg>\n",
              "      </button>\n",
              "      \n",
              "  <style>\n",
              "    .colab-df-container {\n",
              "      display:flex;\n",
              "      flex-wrap:wrap;\n",
              "      gap: 12px;\n",
              "    }\n",
              "\n",
              "    .colab-df-convert {\n",
              "      background-color: #E8F0FE;\n",
              "      border: none;\n",
              "      border-radius: 50%;\n",
              "      cursor: pointer;\n",
              "      display: none;\n",
              "      fill: #1967D2;\n",
              "      height: 32px;\n",
              "      padding: 0 0 0 0;\n",
              "      width: 32px;\n",
              "    }\n",
              "\n",
              "    .colab-df-convert:hover {\n",
              "      background-color: #E2EBFA;\n",
              "      box-shadow: 0px 1px 2px rgba(60, 64, 67, 0.3), 0px 1px 3px 1px rgba(60, 64, 67, 0.15);\n",
              "      fill: #174EA6;\n",
              "    }\n",
              "\n",
              "    [theme=dark] .colab-df-convert {\n",
              "      background-color: #3B4455;\n",
              "      fill: #D2E3FC;\n",
              "    }\n",
              "\n",
              "    [theme=dark] .colab-df-convert:hover {\n",
              "      background-color: #434B5C;\n",
              "      box-shadow: 0px 1px 3px 1px rgba(0, 0, 0, 0.15);\n",
              "      filter: drop-shadow(0px 1px 2px rgba(0, 0, 0, 0.3));\n",
              "      fill: #FFFFFF;\n",
              "    }\n",
              "  </style>\n",
              "\n",
              "      <script>\n",
              "        const buttonEl =\n",
              "          document.querySelector('#df-d3f9478b-5248-47fe-82ae-637178d0a2cb button.colab-df-convert');\n",
              "        buttonEl.style.display =\n",
              "          google.colab.kernel.accessAllowed ? 'block' : 'none';\n",
              "\n",
              "        async function convertToInteractive(key) {\n",
              "          const element = document.querySelector('#df-d3f9478b-5248-47fe-82ae-637178d0a2cb');\n",
              "          const dataTable =\n",
              "            await google.colab.kernel.invokeFunction('convertToInteractive',\n",
              "                                                     [key], {});\n",
              "          if (!dataTable) return;\n",
              "\n",
              "          const docLinkHtml = 'Like what you see? Visit the ' +\n",
              "            '<a target=\"_blank\" href=https://colab.research.google.com/notebooks/data_table.ipynb>data table notebook</a>'\n",
              "            + ' to learn more about interactive tables.';\n",
              "          element.innerHTML = '';\n",
              "          dataTable['output_type'] = 'display_data';\n",
              "          await google.colab.output.renderOutput(dataTable, element);\n",
              "          const docLink = document.createElement('div');\n",
              "          docLink.innerHTML = docLinkHtml;\n",
              "          element.appendChild(docLink);\n",
              "        }\n",
              "      </script>\n",
              "    </div>\n",
              "  </div>\n",
              "  "
            ]
          },
          "metadata": {},
          "execution_count": 21
        }
      ]
    },
    {
      "cell_type": "code",
      "source": [
        "plt.figure(figsize=(13,8))\n",
        "plt.title('Top 5 stock Name')\n",
        "sns.barplot(x='StockCode_Name',y='Count',data=stockcode_data[:10])"
      ],
      "metadata": {
        "colab": {
          "base_uri": "https://localhost:8080/",
          "height": 531
        },
        "id": "PRTtT9RQtlD-",
        "outputId": "e96e6ea4-af24-4580-a759-68a4ab8230b3"
      },
      "execution_count": 24,
      "outputs": [
        {
          "output_type": "execute_result",
          "data": {
            "text/plain": [
              "<matplotlib.axes._subplots.AxesSubplot at 0x7f8d361eec10>"
            ]
          },
          "metadata": {},
          "execution_count": 24
        },
        {
          "output_type": "display_data",
          "data": {
            "text/plain": [
              "<Figure size 936x576 with 1 Axes>"
            ],
            "image/png": "[encoded data removed]"
          },
          "metadata": {
            "needs_background": "light"
          }
        }
      ]
    }
  ]
}